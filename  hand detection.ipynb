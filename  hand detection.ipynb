{
 "cells": [
  {
   "cell_type": "code",
   "execution_count": 1,
   "id": "6d7fed2b",
   "metadata": {},
   "outputs": [],
   "source": [
    "import cv2\n",
    "import mediapipe as mp"
   ]
  },
  {
   "cell_type": "code",
   "execution_count": 2,
   "id": "997d4464",
   "metadata": {},
   "outputs": [
    {
     "name": "stderr",
     "output_type": "stream",
     "text": [
      "C:\\Users\\adity\\AppData\\Roaming\\Python\\Python312\\site-packages\\google\\protobuf\\symbol_database.py:55: UserWarning: SymbolDatabase.GetPrototype() is deprecated. Please use message_factory.GetMessageClass() instead. SymbolDatabase.GetPrototype() will be removed soon.\n",
      "  warnings.warn('SymbolDatabase.GetPrototype() is deprecated. Please '\n"
     ]
    }
   ],
   "source": [
    "mp_drawing = mp.solutions.drawing_utils\n",
    "mp_drawing.styles = mp.solutions.drawing_styles\n",
    "mp_hands = mp.solutions.hands\n",
    "\n",
    "cap = cv2.VideoCapture(0) \n",
    "p = mp_hands.Hands(static_image_mode=True, max_num_hands=2,min_detection_confidence=0.5)\n",
    "\n",
    "\n",
    "\n",
    "def position_data(lmlist):\n",
    "    global wrist, thumb_tip,index_mcp, index_tip, midle_tip, ring_tip   \n",
    "\n",
    "\n",
    "\n",
    "while True:\n",
    "    r , frame = cap.read()\n",
    "    if r == True:\n",
    "        frame = cv2.flip(frame, 1)\n",
    "        \n",
    "        img = cv2.cvtColor(frame,cv2.COLOR_BGR2RGB)\n",
    "        \n",
    "        final = p.process(img)\n",
    "        \n",
    "        frame = cv2.cvtColor(img,cv2.COLOR_RGB2BGR)\n",
    "        \n",
    "        if final.multi_hand_landmarks:\n",
    "            for landmarks in final.multi_hand_landmarks:\n",
    "                mp_drawing.draw_landmarks(frame,\n",
    "                                         landmarks,\n",
    "                                         mp_hands.HAND_CONNECTIONS)\n",
    "        \n",
    "        \n",
    "        \n",
    "        cv2.imshow(\"wscube\",frame)\n",
    "        if cv2.waitKey(25) == ord(\"q\"):\n",
    "            break\n",
    "    else:\n",
    "        break\n",
    "cap.release()\n",
    "cv2.destroyAllWindows()\n",
    "        \n",
    "        "
   ]
  },
  {
   "cell_type": "code",
   "execution_count": null,
   "id": "d3d2ea67",
   "metadata": {},
   "outputs": [],
   "source": []
  },
  {
   "cell_type": "code",
   "execution_count": null,
   "id": "d9c708d3",
   "metadata": {},
   "outputs": [],
   "source": []
  },
  {
   "cell_type": "code",
   "execution_count": null,
   "id": "b5244dd8",
   "metadata": {},
   "outputs": [],
   "source": []
  },
  {
   "cell_type": "code",
   "execution_count": null,
   "id": "47900f59",
   "metadata": {},
   "outputs": [],
   "source": []
  }
 ],
 "metadata": {
  "kernelspec": {
   "display_name": "Python 3 (ipykernel)",
   "language": "python",
   "name": "python3"
  },
  "language_info": {
   "codemirror_mode": {
    "name": "ipython",
    "version": 3
   },
   "file_extension": ".py",
   "mimetype": "text/x-python",
   "name": "python",
   "nbconvert_exporter": "python",
   "pygments_lexer": "ipython3",
   "version": "3.12.4"
  }
 },
 "nbformat": 4,
 "nbformat_minor": 5
}
